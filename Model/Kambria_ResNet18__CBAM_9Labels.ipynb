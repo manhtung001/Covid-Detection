{
  "nbformat": 4,
  "nbformat_minor": 0,
  "metadata": {
    "kernelspec": {
      "display_name": "Python 3",
      "language": "python",
      "name": "python3"
    },
    "language_info": {
      "codemirror_mode": {
        "name": "ipython",
        "version": 3
      },
      "file_extension": ".py",
      "mimetype": "text/x-python",
      "name": "python",
      "nbconvert_exporter": "python",
      "pygments_lexer": "ipython3",
      "version": "3.8.5"
    },
    "colab": {
      "name": "Kambria ResNet18__CBAM_9Labels.ipynb",
      "provenance": [],
      "collapsed_sections": []
    },
    "accelerator": "GPU"
  },
  "cells": [
    {
      "cell_type": "code",
      "metadata": {
        "id": "L_As3FMsVEGp",
        "colab": {
          "base_uri": "https://localhost:8080/"
        },
        "outputId": "2d8175ac-e81d-4e40-eb89-26c72fa048ce"
      },
      "source": [
        "from google.colab import drive\n",
        "drive._mount('/content/drive')"
      ],
      "execution_count": null,
      "outputs": [
        {
          "output_type": "stream",
          "name": "stdout",
          "text": [
            "Mounted at /content/drive\n"
          ]
        }
      ]
    },
    {
      "cell_type": "code",
      "metadata": {
        "id": "AuIX9trIUt-I"
      },
      "source": [
        "import os\n",
        "import numpy as np\n",
        "import math\n",
        "from os import listdir\n",
        "import librosa\n",
        "import IPython.display as ipd"
      ],
      "execution_count": null,
      "outputs": []
    },
    {
      "cell_type": "code",
      "metadata": {
        "id": "Xz4QJRw0Ut_c"
      },
      "source": [
        "def resample(aud):\n",
        "    y, sr = librosa.load(aud)\n",
        "    y_4k = librosa.resample(y, sr, 4000)\n",
        "    return y_4k"
      ],
      "execution_count": null,
      "outputs": []
    },
    {
      "cell_type": "code",
      "metadata": {
        "id": "kABGkdhLUt_f"
      },
      "source": [
        "import matplotlib.pyplot as plt\n",
        "def get_spectrogram(wav):\n",
        "    D = librosa.stft(wav, n_fft=100, hop_length=40,\n",
        "                     win_length=100, window='hamming')\n",
        "    spect, phase = librosa.magphase(D)\n",
        "    return spect\n",
        "def spectrogram(wav):\n",
        "    log_spect = np.log(get_spectrogram(wav))\n",
        "    print('spectrogram shape:', log_spect.shape)\n",
        "    plt.imshow(log_spect, aspect='auto', origin='lower',)\n",
        "    plt.title('spectrogram of origin audio')\n",
        "    plt.show()"
      ],
      "execution_count": null,
      "outputs": []
    },
    {
      "cell_type": "code",
      "metadata": {
        "id": "mKp7JCjvUt_0"
      },
      "source": [
        "def assign_label(aud):\n",
        "    label = aud.split(\"_\")\n",
        "    label = label[0]\n",
        "    return label"
      ],
      "execution_count": null,
      "outputs": []
    },
    {
      "cell_type": "code",
      "metadata": {
        "id": "3sTyFnhOUt_1"
      },
      "source": [
        "# wav, sr= librosa.load(os.path.join(new_cough9_path, 'Barking cough_1.wav'))\n",
        "# print(sr)"
      ],
      "execution_count": null,
      "outputs": []
    },
    {
      "cell_type": "code",
      "metadata": {
        "id": "lp15B3paUt_2"
      },
      "source": [
        "# s = get_spectrogram(wav)\n",
        "# print(s.shape)"
      ],
      "execution_count": null,
      "outputs": []
    },
    {
      "cell_type": "code",
      "metadata": {
        "id": "VViAyFJeAjGG"
      },
      "source": [
        "def log_mel_aud(aud):\n",
        "    wav, sr = librosa.load(aud)\n",
        "    frame_size = 2048\n",
        "    hop_size = 512\n",
        "    aud_stft = librosa.stft(wav, n_fft = frame_size, hop_length = hop_size)\n",
        "    y = np.abs(aud_stft)**2\n",
        "    y_mel = librosa.feature.melspectrogram(S=y, sr = sr, n_mels = 64)\n",
        "    y_db = librosa.power_to_db(y_mel)\n",
        "    return y_db"
      ],
      "execution_count": null,
      "outputs": []
    },
    {
      "cell_type": "code",
      "metadata": {
        "id": "e3MxS-R2UuAP"
      },
      "source": [
        "cough_path = \"/content/drive/MyDrive/dataset/cough9\"\n",
        "labels =[]\n",
        "mel_spec = []\n",
        "count = 0\n",
        "for file in listdir(cough_path):\n",
        "    count += 1\n",
        "    link = os.path.join(cough_path, file)\n",
        "    log_mel = log_mel_aud(link)\n",
        "    mel_spec.append(log_mel)\n",
        "    label = assign_label(file)\n",
        "    labels.append(label)"
      ],
      "execution_count": null,
      "outputs": []
    },
    {
      "cell_type": "code",
      "metadata": {
        "id": "v9drjQmyUuAU"
      },
      "source": [
        "spec= np.array(mel_spec)\n",
        "labels= np.array(labels)"
      ],
      "execution_count": null,
      "outputs": []
    },
    {
      "cell_type": "code",
      "metadata": {
        "colab": {
          "base_uri": "https://localhost:8080/"
        },
        "id": "6cCOrBdwryiD",
        "outputId": "610f4789-a29f-4b55-a354-3bcd655c9d57"
      },
      "source": [
        "l = []\n",
        "c = []\n",
        "c1 = 1\n",
        "l1 = sorted(labels)\n",
        "for i in l1:\n",
        "    if (i not in l):\n",
        "        c.append(c1)\n",
        "        l.append(i)\n",
        "        c1 =  1\n",
        "    else: \n",
        "        c1 += 1\n",
        "c.append(c1)\n",
        "        \n",
        "print(l)\n",
        "print(c[1:])"
      ],
      "execution_count": null,
      "outputs": [
        {
          "output_type": "stream",
          "name": "stdout",
          "text": [
            "['Barking cough', 'Chesty and wet cough', 'Coughing hard', 'Coughing up crap again', 'Dry Afternoon Cough', 'Gaggy wet cough', 'Night wet cough', 'Spring Allergy Coughing', 'Unknow']\n",
            "[1040, 1664, 60, 884, 1040, 1118, 1300, 884, 1557]\n"
          ]
        }
      ]
    },
    {
      "cell_type": "code",
      "metadata": {
        "colab": {
          "base_uri": "https://localhost:8080/"
        },
        "id": "xEWZunexUuAV",
        "outputId": "a762ba97-9db3-4866-81c8-a8bdfc706309"
      },
      "source": [
        "print(spec.shape)\n",
        "print(labels.shape)"
      ],
      "execution_count": null,
      "outputs": [
        {
          "output_type": "stream",
          "name": "stdout",
          "text": [
            "(9547, 64, 44)\n",
            "(9547,)\n"
          ]
        }
      ]
    },
    {
      "cell_type": "code",
      "metadata": {
        "colab": {
          "base_uri": "https://localhost:8080/"
        },
        "id": "eY-6_iY1UuAV",
        "outputId": "1cdf1de9-67de-4c26-9be0-f628f4330278"
      },
      "source": [
        "from sklearn.preprocessing import OneHotEncoder\n",
        "from sklearn.preprocessing import LabelEncoder\n",
        "encoder = LabelEncoder()\n",
        "label_encoder = encoder.fit_transform(labels)\n",
        "print(label_encoder)\n",
        "new_label = label_encoder.reshape(-1,1)\n",
        "encoder2 = OneHotEncoder(sparse=False)\n",
        "label_e = encoder2.fit_transform(new_label)\n",
        "print(encoder2.fit_transform(new_label))"
      ],
      "execution_count": null,
      "outputs": [
        {
          "output_type": "stream",
          "name": "stdout",
          "text": [
            "[8 8 8 ... 1 1 1]\n",
            "[[0. 0. 0. ... 0. 0. 1.]\n",
            " [0. 0. 0. ... 0. 0. 1.]\n",
            " [0. 0. 0. ... 0. 0. 1.]\n",
            " ...\n",
            " [0. 1. 0. ... 0. 0. 0.]\n",
            " [0. 1. 0. ... 0. 0. 0.]\n",
            " [0. 1. 0. ... 0. 0. 0.]]\n"
          ]
        }
      ]
    },
    {
      "cell_type": "code",
      "metadata": {
        "id": "fMsTggN9UuAW"
      },
      "source": [
        "# Define network\n",
        "\n",
        "import tensorflow as tf\n",
        "import tensorflow.keras as keras\n",
        "from tensorflow.keras import layers, Sequential, regularizers\n",
        "\n",
        "\n",
        "def regularized_padded_conv(*args, **kwargs):\n",
        "    return layers.Conv2D(*args, **kwargs, padding='same', use_bias=False, kernel_initializer='he_normal',\n",
        "                         kernel_regularizer=regularizers.l2(5e-4))\n",
        "\n",
        "class ChannelAttention(layers.Layer):\n",
        "    def __init__(self, in_planes, ratio=16):\n",
        "        super(ChannelAttention, self).__init__()\n",
        "        self.avg = layers.GlobalAveragePooling2D()\n",
        "        self.max = layers.GlobalMaxPooling2D()\n",
        "        self.conv1 = layers.Conv2D(in_planes // ratio, kernel_size=1, strides=1, padding='same',\n",
        "                                   kernel_regularizer=regularizers.l2(5e-4),\n",
        "                                   use_bias=True, activation=tf.nn.relu)\n",
        "        self.conv2 = layers.Conv2D(in_planes, kernel_size=1, strides=1, padding='same',\n",
        "                                   kernel_regularizer=regularizers.l2(5e-4),\n",
        "                                   use_bias=True)\n",
        "\n",
        "    def call(self, inputs):\n",
        "        avg = self.avg(inputs)\n",
        "        max = self.max(inputs)\n",
        "        avg = layers.Reshape((1, 1, avg.shape[1]))(avg)  # shape (None, 1, 1 feature)\n",
        "        max = layers.Reshape((1, 1, max.shape[1]))(max)  # shape (None, 1, 1 feature)\n",
        "        avg_out = self.conv2(self.conv1(avg))\n",
        "        max_out = self.conv2(self.conv1(max))\n",
        "        out = avg_out + max_out\n",
        "        out = tf.nn.sigmoid(out)\n",
        "\n",
        "        return out\n",
        "\n",
        "class SpatialAttention(layers.Layer):\n",
        "    def __init__(self, kernel_size=7):\n",
        "        super(SpatialAttention, self).__init__()\n",
        "        self.conv1 = regularized_padded_conv(1, kernel_size=kernel_size, strides=1, activation=tf.nn.sigmoid)\n",
        "\n",
        "    def call(self, inputs):\n",
        "        avg_out = tf.reduce_mean(inputs, axis=3)\n",
        "        max_out = tf.reduce_max(inputs, axis=3)\n",
        "        out = tf.stack([avg_out, max_out], axis=3)\n",
        "        out = self.conv1(out)\n",
        "\n",
        "        return out\n",
        "\n",
        "class BasicBlock(layers.Layer):\n",
        "    expansion = 1\n",
        "\n",
        "    def __init__(self, in_channels, out_channels, stride=1):\n",
        "        super(BasicBlock, self).__init__()\n",
        "\n",
        "        self.conv1 = regularized_padded_conv(out_channels, kernel_size=3, strides=stride)\n",
        "        self.bn1 = layers.BatchNormalization()\n",
        "\n",
        "        self.conv2 = regularized_padded_conv(out_channels, kernel_size=3, strides=1)\n",
        "        self.bn2 = layers.BatchNormalization()\n",
        "        self.ca = ChannelAttention(out_channels)\n",
        "        self.sa = SpatialAttention()\n",
        "\n",
        "        if stride != 1 or in_channels != self.expansion * out_channels:\n",
        "            self.shortcut = Sequential([regularized_padded_conv(self.expansion * out_channels,\n",
        "                                                                kernel_size=1, strides=stride),\n",
        "                                        layers.BatchNormalization()])\n",
        "        else:\n",
        "            self.shortcut = lambda x, _: x\n",
        "\n",
        "    def call(self, inputs, training=False):\n",
        "        out = self.conv1(inputs)\n",
        "        out = self.bn1(out, training=training)\n",
        "        out = tf.nn.relu(out)\n",
        "\n",
        "        out = self.conv2(out)\n",
        "        out = self.bn2(out, training=training)\n",
        "        out = self.ca(out) * out\n",
        "        out = self.sa(out) * out\n",
        "\n",
        "        out = out + self.shortcut(inputs, training)\n",
        "        out = tf.nn.relu(out)\n",
        "\n",
        "        return out\n",
        "\n",
        "\n",
        "class Bottleneck(keras.Model):\n",
        "    expansion = 4\n",
        "\n",
        "    def __init__(self, in_channels, out_channels, strides=1):\n",
        "        super(Bottleneck, self).__init__()\n",
        "\n",
        "        self.conv1 = regularized_padded_conv(out_channels, 1, 1)\n",
        "        self.bn1 = layers.BatchNormalization()\n",
        "\n",
        "        self.conv2 = regularized_padded_conv(out_channels, 3, strides)\n",
        "        self.bn2 = layers.BatchNormalization()\n",
        "        self.conv3 = regularized_padded_conv(out_channels * self.expansion, 1, 1)\n",
        "        self.bn3 = layers.BatchNormalization()\n",
        "\n",
        "        if strides != 1 or in_channels != self.expansion * out_channels:\n",
        "            self.shortcut = Sequential([regularized_padded_conv(self.expansion * out_channels, kernel_size=1,\n",
        "                                                                strides=strides),\n",
        "                                        layers.BatchNormalization()])\n",
        "        else:\n",
        "            self.shortcut = lambda x, _: x\n",
        "\n",
        "    def call(self, x, training=False):\n",
        "        out = tf.nn.relu(self.bn1(self.conv1(x), training))\n",
        "        out = tf.nn.relu(self.bn2(self.conv2(out), training))\n",
        "        out = self.bn3(self.conv3(out), training)\n",
        "\n",
        "        out = out + self.shortcut(x, training)\n",
        "        out = tf.nn.relu(out)\n",
        "\n",
        "        return out\n",
        "\n",
        "\n",
        "class ResNet(keras.Model):\n",
        "\n",
        "    def __init__(self, blocks, layer_dims, num_classes=9):\n",
        "        super(ResNet, self).__init__()\n",
        "        self.in_channels = 64\n",
        "\n",
        "        self.stem = Sequential([regularized_padded_conv(64, kernel_size=3, strides=1),\n",
        "                                layers.BatchNormalization()])\n",
        "\n",
        "        self.layer1 = self.build_resblock(blocks, 64, layer_dims[0], stride=1)\n",
        "        self.layer2 = self.build_resblock(blocks, 128, layer_dims[1], stride=2)\n",
        "        self.layer3 = self.build_resblock(blocks, 256, layer_dims[2], stride=2)\n",
        "        self.layer4 = self.build_resblock(blocks, 512, layer_dims[3], stride=2)\n",
        "        self.final_bn  = layers.BatchNormalization()\n",
        "\n",
        "        self.avgpool = layers.GlobalAveragePooling2D()\n",
        "        self.fc = layers.Dense(num_classes, activation='softmax')\n",
        "\n",
        "    # 2. ResBlock\n",
        "    def build_resblock(self, blocks, out_channels, num_blocks, stride):\n",
        "        strides = [stride] + [1] * (num_blocks - 1)  # [1]*3 = [1, 1, 1]\n",
        "        res_blocks = Sequential()\n",
        "\n",
        "        for stride in strides:\n",
        "            res_blocks.add(blocks(self.in_channels, out_channels, stride))\n",
        "            self.in_channels = out_channels\n",
        "\n",
        "        return res_blocks\n",
        "\n",
        "    def call(self, inputs, training=False):\n",
        "        out = self.stem(inputs, training)\n",
        "        out = tf.nn.relu(out)\n",
        "\n",
        "        out = self.layer1(out, training=training)\n",
        "        out = self.layer2(out, training=training)\n",
        "        out = self.layer3(out, training=training)\n",
        "        out = self.layer4(out, training=training)\n",
        "        out = self.final_bn(out, training=training)\n",
        "        out = tf.nn.relu(out)\n",
        "\n",
        "        out = self.avgpool(out)\n",
        "        out = self.fc(out)\n",
        "\n",
        "        return out\n",
        "\n",
        "\n",
        "def ResNet18():\n",
        "    return ResNet(BasicBlock, [2, 2, 2, 2])"
      ],
      "execution_count": null,
      "outputs": []
    },
    {
      "cell_type": "code",
      "metadata": {
        "id": "ZylFgtuJUuAd"
      },
      "source": [
        "sample_height = 64\n",
        "sample_width = 44"
      ],
      "execution_count": null,
      "outputs": []
    },
    {
      "cell_type": "code",
      "metadata": {
        "colab": {
          "base_uri": "https://localhost:8080/"
        },
        "id": "skbkgw9DUuAg",
        "outputId": "4343aec7-b97f-40e5-90f2-971eb68a89d7"
      },
      "source": [
        "model = ResNet18()\n",
        "model.build(input_shape=(None, sample_height, sample_width, 1))\n",
        "model.summary()"
      ],
      "execution_count": null,
      "outputs": [
        {
          "output_type": "stream",
          "name": "stdout",
          "text": [
            "Model: \"res_net\"\n",
            "_________________________________________________________________\n",
            " Layer (type)                Output Shape              Param #   \n",
            "=================================================================\n",
            " sequential (Sequential)     (None, 64, 44, 64)        832       \n",
            "                                                                 \n",
            " sequential_1 (Sequential)   (None, 64, 44, 64)        149836    \n",
            "                                                                 \n",
            " sequential_2 (Sequential)   (None, 32, 22, 128)       531412    \n",
            "                                                                 \n",
            " sequential_4 (Sequential)   (None, 16, 11, 256)       2119396   \n",
            "                                                                 \n",
            " sequential_6 (Sequential)   (None, 8, 6, 512)         8465668   \n",
            "                                                                 \n",
            " batch_normalization_20 (Bat  multiple                 2048      \n",
            " chNormalization)                                                \n",
            "                                                                 \n",
            " global_average_pooling2d_8   multiple                 0         \n",
            " (GlobalAveragePooling2D)                                        \n",
            "                                                                 \n",
            " dense (Dense)               multiple                  4617      \n",
            "                                                                 \n",
            "=================================================================\n",
            "Total params: 11,273,809\n",
            "Trainable params: 11,263,185\n",
            "Non-trainable params: 10,624\n",
            "_________________________________________________________________\n"
          ]
        }
      ]
    },
    {
      "cell_type": "code",
      "metadata": {
        "colab": {
          "base_uri": "https://localhost:8080/"
        },
        "id": "SXUWkKZ_UuAi",
        "outputId": "880705fe-8dbb-460f-9004-53c91202a9e4"
      },
      "source": [
        "X = tf.random.uniform(shape=(1, 224, 224, 1))\n",
        "for layer in model.layers:\n",
        "    X = layer(X)\n",
        "    print(layer.__class__.__name__, 'output shape:\\t', X.shape)"
      ],
      "execution_count": null,
      "outputs": [
        {
          "output_type": "stream",
          "name": "stdout",
          "text": [
            "Sequential output shape:\t (1, 224, 224, 64)\n",
            "Sequential output shape:\t (1, 224, 224, 64)\n",
            "Sequential output shape:\t (1, 112, 112, 128)\n",
            "Sequential output shape:\t (1, 56, 56, 256)\n",
            "Sequential output shape:\t (1, 28, 28, 512)\n",
            "BatchNormalization output shape:\t (1, 28, 28, 512)\n",
            "GlobalAveragePooling2D output shape:\t (1, 512)\n",
            "Dense output shape:\t (1, 9)\n"
          ]
        }
      ]
    },
    {
      "cell_type": "code",
      "metadata": {
        "colab": {
          "base_uri": "https://localhost:8080/"
        },
        "id": "nswLrh3IUuAi",
        "outputId": "653c3f37-cc81-4231-8cf1-4945d457c87e"
      },
      "source": [
        "from tensorflow.keras import optimizers\n",
        "opt = optimizers.Adam(lr=0.0001, beta_1=0.9, beta_2=0.999, epsilon=None, decay=0.00, amsgrad=False)\n",
        "model.compile(optimizer =  opt, loss = 'categorical_crossentropy', metrics='accuracy')"
      ],
      "execution_count": null,
      "outputs": [
        {
          "output_type": "stream",
          "name": "stderr",
          "text": [
            "/usr/local/lib/python3.7/dist-packages/keras/optimizer_v2/adam.py:105: UserWarning: The `lr` argument is deprecated, use `learning_rate` instead.\n",
            "  super(Adam, self).__init__(name, **kwargs)\n"
          ]
        }
      ]
    },
    {
      "cell_type": "code",
      "metadata": {
        "id": "UKsxt9ndUuAj"
      },
      "source": [
        "from sklearn.model_selection import train_test_split\n",
        "x_train1, x_test, y_train1, y_test = train_test_split(spec, label_e, test_size=0.1, shuffle = True)\n",
        "x_train, x_val, y_train, y_val = train_test_split(x_train1, y_train1, test_size=0.2, shuffle = True)"
      ],
      "execution_count": null,
      "outputs": []
    },
    {
      "cell_type": "code",
      "metadata": {
        "colab": {
          "base_uri": "https://localhost:8080/"
        },
        "id": "DWa_tBpCUuAj",
        "outputId": "848aeb45-8adb-417c-e4c6-e17de170394d"
      },
      "source": [
        "print(x_train1[2].shape)"
      ],
      "execution_count": null,
      "outputs": [
        {
          "output_type": "stream",
          "name": "stdout",
          "text": [
            "(64, 44)\n"
          ]
        }
      ]
    },
    {
      "cell_type": "code",
      "metadata": {
        "id": "eC8ApxChUuAm"
      },
      "source": [
        "x = x_train1[2].reshape(-1, sample_height, sample_width, 1)"
      ],
      "execution_count": null,
      "outputs": []
    },
    {
      "cell_type": "code",
      "metadata": {
        "id": "AGJ3AH30UuAn",
        "colab": {
          "base_uri": "https://localhost:8080/"
        },
        "outputId": "3d25dcfc-3a48-49c9-ed74-9458d705909c"
      },
      "source": [
        "print(x.shape)"
      ],
      "execution_count": null,
      "outputs": [
        {
          "output_type": "stream",
          "name": "stdout",
          "text": [
            "(1, 64, 44, 1)\n"
          ]
        }
      ]
    },
    {
      "cell_type": "code",
      "metadata": {
        "colab": {
          "base_uri": "https://localhost:8080/"
        },
        "id": "ei0IWYC1UuAn",
        "outputId": "a8f7373a-929f-4fb4-e404-9d701cb5a6e7"
      },
      "source": [
        "x_train_f = x_train.reshape(-1, sample_height, sample_width, 1)\n",
        "print(x_train_f.shape)\n",
        "x_test_f = x_test.reshape(-1, sample_height, sample_width, 1)\n",
        "print(x_test_f.shape)\n",
        "x_val_f = x_val.reshape(-1, sample_height, sample_width, 1)\n",
        "print(x_val_f.shape)"
      ],
      "execution_count": null,
      "outputs": [
        {
          "output_type": "stream",
          "name": "stdout",
          "text": [
            "(6873, 64, 44, 1)\n",
            "(955, 64, 44, 1)\n",
            "(1719, 64, 44, 1)\n"
          ]
        }
      ]
    },
    {
      "cell_type": "code",
      "metadata": {
        "id": "K3zBXOLdUuAW"
      },
      "source": [
        "batch_size = 64\n",
        "n_epochs = 10"
      ],
      "execution_count": null,
      "outputs": []
    },
    {
      "cell_type": "code",
      "metadata": {
        "colab": {
          "base_uri": "https://localhost:8080/"
        },
        "id": "O97QlYq1UuAx",
        "outputId": "980b19a2-734b-4897-efbf-71027a19c090"
      },
      "source": [
        "history = model.fit(x_train_f, y_train, validation_data= (x_val_f, y_val), epochs=10, batch_size=20, verbose = 1)"
      ],
      "execution_count": null,
      "outputs": [
        {
          "output_type": "stream",
          "name": "stdout",
          "text": [
            "Epoch 1/10\n",
            "344/344 [==============================] - 90s 229ms/step - loss: 5.7920 - accuracy: 0.6735 - val_loss: 5.1471 - val_accuracy: 0.7906\n",
            "Epoch 2/10\n",
            "344/344 [==============================] - 76s 221ms/step - loss: 4.6892 - accuracy: 0.9070 - val_loss: 4.5588 - val_accuracy: 0.8732\n",
            "Epoch 3/10\n",
            "344/344 [==============================] - 76s 221ms/step - loss: 4.1699 - accuracy: 0.9491 - val_loss: 4.0609 - val_accuracy: 0.9372\n",
            "Epoch 4/10\n",
            "344/344 [==============================] - 76s 221ms/step - loss: 3.7625 - accuracy: 0.9722 - val_loss: 3.9323 - val_accuracy: 0.8656\n",
            "Epoch 5/10\n",
            "344/344 [==============================] - 76s 221ms/step - loss: 3.4208 - accuracy: 0.9817 - val_loss: 3.5716 - val_accuracy: 0.8965\n",
            "Epoch 6/10\n",
            "344/344 [==============================] - 76s 221ms/step - loss: 3.1270 - accuracy: 0.9879 - val_loss: 3.8447 - val_accuracy: 0.7836\n",
            "Epoch 7/10\n",
            "344/344 [==============================] - 76s 221ms/step - loss: 2.8846 - accuracy: 0.9873 - val_loss: 3.0859 - val_accuracy: 0.9069\n",
            "Epoch 8/10\n",
            "344/344 [==============================] - 76s 221ms/step - loss: 2.6627 - accuracy: 0.9897 - val_loss: 2.8138 - val_accuracy: 0.9232\n",
            "Epoch 9/10\n",
            "344/344 [==============================] - 76s 221ms/step - loss: 2.4674 - accuracy: 0.9907 - val_loss: 2.5842 - val_accuracy: 0.9412\n",
            "Epoch 10/10\n",
            "344/344 [==============================] - 76s 221ms/step - loss: 2.3032 - accuracy: 0.9907 - val_loss: 2.6129 - val_accuracy: 0.8860\n"
          ]
        }
      ]
    },
    {
      "cell_type": "code",
      "metadata": {
        "colab": {
          "base_uri": "https://localhost:8080/",
          "height": 584
        },
        "id": "55Fa0PtRUuA1",
        "outputId": "7405896f-3ea2-4aef-d86e-84349aeb638d"
      },
      "source": [
        "import matplotlib.pyplot as pyplot\n",
        "\n",
        "# plot loss và accuracy\n",
        "pyplot.figure(figsize=(20,10))\n",
        "pyplot.subplot(211)\n",
        "pyplot.title('Loss')\n",
        "pyplot.plot(history.history['loss'], label='train')\n",
        "pyplot.plot(history.history['val_loss'], label='val')\n",
        "pyplot.legend()\n",
        "# plot accuracy during training\n",
        "pyplot.subplot(212)\n",
        "pyplot.title('Accuracy')\n",
        "pyplot.plot(history.history['accuracy'], label='train')\n",
        "pyplot.plot(history.history['val_accuracy'], label='val')\n",
        "pyplot.legend()\n",
        "pyplot.show()"
      ],
      "execution_count": null,
      "outputs": [
        {
          "output_type": "display_data",
          "data": {
            "image/png": "[encoded data removed]",
            "text/plain": [
              "<Figure size 1440x720 with 2 Axes>"
            ]
          },
          "metadata": {
            "needs_background": "light"
          }
        }
      ]
    },
    {
      "cell_type": "code",
      "metadata": {
        "colab": {
          "base_uri": "https://localhost:8080/"
        },
        "id": "nELYcUdag0S1",
        "outputId": "6801131b-40cd-4471-8b0d-5df60725bc30"
      },
      "source": [
        "prediction = model.predict(x_test_f)\n",
        "pre = np.argmax(model.predict(x_test_f), axis=-1)\n",
        "print(prediction[0])"
      ],
      "execution_count": null,
      "outputs": [
        {
          "output_type": "stream",
          "name": "stdout",
          "text": [
            "[1.6211939e-07 4.5922857e-07 5.5253011e-08 3.5758992e-05 6.0789995e-07\n",
            " 1.0612149e-08 9.9996257e-01 3.1793576e-07 7.5898772e-09]\n"
          ]
        }
      ]
    },
    {
      "cell_type": "code",
      "metadata": {
        "colab": {
          "base_uri": "https://localhost:8080/"
        },
        "id": "2dCLdeixhE33",
        "outputId": "f6859b69-15de-4ad9-cb5e-879ae9dbd113"
      },
      "source": [
        "print(pre[0])"
      ],
      "execution_count": null,
      "outputs": [
        {
          "output_type": "stream",
          "name": "stdout",
          "text": [
            "6\n"
          ]
        }
      ]
    },
    {
      "cell_type": "code",
      "metadata": {
        "colab": {
          "base_uri": "https://localhost:8080/"
        },
        "id": "QBhyGIIAhJ4L",
        "outputId": "4a84683f-81dc-4ea3-90fd-c9b89200de15"
      },
      "source": [
        "y_test[5]"
      ],
      "execution_count": null,
      "outputs": [
        {
          "output_type": "execute_result",
          "data": {
            "text/plain": [
              "array([0., 0., 0., 1., 0., 0., 0., 0., 0.])"
            ]
          },
          "metadata": {},
          "execution_count": 29
        }
      ]
    },
    {
      "cell_type": "code",
      "metadata": {
        "colab": {
          "base_uri": "https://localhost:8080/"
        },
        "id": "liqlVlJtmRFW",
        "outputId": "75d32b6c-b4f1-494c-a551-7535192c9755"
      },
      "source": [
        "# evaluate the model\n",
        "score = model.evaluate(x_test_f, y_test, verbose=0)\n",
        "print(score)\n",
        "print(\"loss: \", score[0]) #loss\n",
        "print(\"acc: \", score[1]) #acc"
      ],
      "execution_count": null,
      "outputs": [
        {
          "output_type": "stream",
          "name": "stdout",
          "text": [
            "[2.626462697982788, 0.8743455410003662]\n",
            "loss:  2.626462697982788\n",
            "acc:  0.8743455410003662\n"
          ]
        }
      ]
    },
    {
      "cell_type": "code",
      "metadata": {
        "colab": {
          "base_uri": "https://localhost:8080/"
        },
        "id": "JnJvavnVmTk8",
        "outputId": "233b173c-93a8-4d41-cf8c-b07bd5027bb1"
      },
      "source": [
        "from sklearn.metrics import classification_report, confusion_matrix\n",
        "y_true = []\n",
        "for i in y_test:\n",
        "    y_true.append(np.argmax(i))\n",
        "y_true = np.array(y_true)\n",
        "classes=['0','1', '2', '3', '4', '5', '6', '7', '8']\n",
        "print(classification_report(y_true, pre, target_names=classes))"
      ],
      "execution_count": null,
      "outputs": [
        {
          "output_type": "stream",
          "name": "stdout",
          "text": [
            "              precision    recall  f1-score   support\n",
            "\n",
            "           0       0.97      0.95      0.96       108\n",
            "           1       0.95      0.78      0.86       163\n",
            "           2       0.83      0.83      0.83         6\n",
            "           3       0.78      0.94      0.85        93\n",
            "           4       0.97      0.86      0.91        96\n",
            "           5       1.00      0.62      0.76       128\n",
            "           6       0.69      0.95      0.80       136\n",
            "           7       0.81      0.96      0.88        84\n",
            "           8       0.98      1.00      0.99       141\n",
            "\n",
            "    accuracy                           0.87       955\n",
            "   macro avg       0.89      0.88      0.87       955\n",
            "weighted avg       0.90      0.87      0.87       955\n",
            "\n"
          ]
        }
      ]
    },
    {
      "cell_type": "code",
      "metadata": {
        "id": "g91rFoBFmj_P"
      },
      "source": [
        "import matplotlib.pyplot as plt\n",
        "import itertools\n",
        "def plot_confusion_matrix(cm, classes,\n",
        "                          normalize=False,\n",
        "                          title='Confusion matrix',\n",
        "                          cmap=plt.cm.Blues):\n",
        "    \"\"\"\n",
        "    This function prints and plots the confusion matrix.\n",
        "    Normalization can be applied by setting `normalize=True`.\n",
        "    \"\"\"\n",
        "    if normalize:\n",
        "        cm = cm.astype('float') / cm.sum(axis=1, keepdims = True)\n",
        "\n",
        "    plt.imshow(cm, interpolation='nearest', cmap=cmap)\n",
        "    plt.title(title)\n",
        "    plt.colorbar()\n",
        "    tick_marks = np.arange(len(classes))\n",
        "    plt.xticks(tick_marks, classes, rotation=45)\n",
        "    plt.yticks(tick_marks, classes)\n",
        "\n",
        "    fmt = '.2f' if normalize else 'd'\n",
        "    thresh = cm.max() / 2.\n",
        "    for i, j in itertools.product(range(cm.shape[0]), range(cm.shape[1])):\n",
        "        plt.text(j, i, format(cm[i, j], fmt),\n",
        "                 horizontalalignment=\"center\",\n",
        "                 color=\"white\" if cm[i, j] > thresh else \"black\")\n",
        "\n",
        "    plt.tight_layout()\n",
        "    plt.ylabel('True label')\n",
        "    plt.xlabel('Predicted label')"
      ],
      "execution_count": null,
      "outputs": []
    },
    {
      "cell_type": "code",
      "metadata": {
        "colab": {
          "base_uri": "https://localhost:8080/",
          "height": 479
        },
        "id": "_5hRpoVIm0oz",
        "outputId": "e48f5542-fdbf-4d6b-ef64-2e0cb3ae66a8"
      },
      "source": [
        "y_pred = pre\n",
        "cm_train = confusion_matrix(y_true, y_pred) \n",
        "print('Confusion matrix: \\n', cm_train)\n",
        "plot_confusion_matrix(cm_train, classes=['0','1', '2', '3', '4', '5', '6', '7', '8'],\n",
        "                      title='Confusion matrix')"
      ],
      "execution_count": null,
      "outputs": [
        {
          "output_type": "stream",
          "name": "stdout",
          "text": [
            "Confusion matrix: \n",
            " [[103   0   1   0   0   0   3   1   0]\n",
            " [  2 127   0   7   1   0  18   8   0]\n",
            " [  0   0   5   0   0   0   0   0   1]\n",
            " [  0   1   0  87   1   0   4   0   0]\n",
            " [  0   2   0   2  83   0   6   2   1]\n",
            " [  0   1   0  15   0  79  26   7   0]\n",
            " [  1   3   0   1   1   0 129   1   0]\n",
            " [  0   0   0   0   0   0   2  81   1]\n",
            " [  0   0   0   0   0   0   0   0 141]]\n"
          ]
        },
        {
          "output_type": "display_data",
          "data": {
            "image/png": "[encoded data removed]",
            "text/plain": [
              "<Figure size 432x288 with 2 Axes>"
            ]
          },
          "metadata": {
            "needs_background": "light"
          }
        }
      ]
    },
    {
      "cell_type": "code",
      "metadata": {
        "id": "8kiIc0hLnA_W",
        "colab": {
          "base_uri": "https://localhost:8080/"
        },
        "outputId": "081719da-eefb-4738-8f47-c4a8b67c8da3"
      },
      "source": [
        "from tensorflow.keras.models import Sequential, save_model, load_model\n",
        "filepath = './saved_model_abnormal_cough'\n",
        "save_model(model, filepath)\n",
        "model.save_weights('cough_weights.h5')"
      ],
      "execution_count": null,
      "outputs": [
        {
          "output_type": "stream",
          "name": "stderr",
          "text": [
            "WARNING:absl:Found untraced functions such as conv2d_1_layer_call_fn, conv2d_1_layer_call_and_return_conditional_losses, conv2d_2_layer_call_fn, conv2d_2_layer_call_and_return_conditional_losses, channel_attention_layer_call_fn while saving (showing 5 of 280). These functions will not be directly callable after loading.\n"
          ]
        },
        {
          "output_type": "stream",
          "name": "stdout",
          "text": [
            "INFO:tensorflow:Assets written to: ./saved_model_abnormal_cough/assets\n"
          ]
        },
        {
          "output_type": "stream",
          "name": "stderr",
          "text": [
            "INFO:tensorflow:Assets written to: ./saved_model_abnormal_cough/assets\n"
          ]
        }
      ]
    },
    {
      "cell_type": "code",
      "metadata": {
        "colab": {
          "base_uri": "https://localhost:8080/"
        },
        "id": "DvNd04LG1GCs",
        "outputId": "18efd310-ae3c-48d2-c797-a4db1dc2cd96"
      },
      "source": [
        "!zip -r /content/saved_model_abnormal_cough.zip /content/saved_model_abnormal_cough"
      ],
      "execution_count": null,
      "outputs": [
        {
          "output_type": "stream",
          "name": "stdout",
          "text": [
            "  adding: content/saved_model_abnormal_cough/ (stored 0%)\n",
            "  adding: content/saved_model_abnormal_cough/saved_model.pb (deflated 91%)\n",
            "  adding: content/saved_model_abnormal_cough/variables/ (stored 0%)\n",
            "  adding: content/saved_model_abnormal_cough/variables/variables.data-00000-of-00001 (deflated 8%)\n",
            "  adding: content/saved_model_abnormal_cough/variables/variables.index (deflated 77%)\n",
            "  adding: content/saved_model_abnormal_cough/assets/ (stored 0%)\n",
            "  adding: content/saved_model_abnormal_cough/keras_metadata.pb (deflated 95%)\n"
          ]
        }
      ]
    },
    {
      "cell_type": "code",
      "metadata": {
        "id": "G60nmtQi1OIc"
      },
      "source": [
        ""
      ],
      "execution_count": null,
      "outputs": []
    }
  ]
}